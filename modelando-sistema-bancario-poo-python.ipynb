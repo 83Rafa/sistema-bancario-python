{
 "cells": [
  {
   "cell_type": "markdown",
   "id": "ada2959e",
   "metadata": {},
   "source": [
    "## Modelando o Sistema Bancário em POO com Python"
   ]
  },
  {
   "cell_type": "code",
   "execution_count": 4,
   "id": "75e52475",
   "metadata": {},
   "outputs": [],
   "source": [
    "from abc import ABC, abstractclassmethod, abstractproperty\n",
    "from datetime import datetime"
   ]
  },
  {
   "cell_type": "markdown",
   "id": "1e589336",
   "metadata": {},
   "source": [
    "1 - Classe pai <mark>Cliente</mark> recebe o atributo <i>Endereço</i>."
   ]
  },
  {
   "cell_type": "code",
   "execution_count": 5,
   "id": "fc187538",
   "metadata": {},
   "outputs": [],
   "source": [
    "class Cliente:\n",
    "    def __init__(self, endereco):\n",
    "        self.endereco = endereco\n",
    "        self.contas = []\n",
    "\n",
    "    def realizar_transacao(self, conta, transacao):\n",
    "        transacao.registrar(conta)\n",
    "\n",
    "    def adicionar_conta(self, conta):\n",
    "        self.contas.append(conta)"
   ]
  },
  {
   "cell_type": "markdown",
   "id": "92a677ea",
   "metadata": {},
   "source": [
    " - A classe <mark>Pessoa Física</mark> herda <i>Endereço</i> da classe <mark>Cliente</mark> mais os atributos <i>Nome, CPF e Data de Nascimento.</i>"
   ]
  },
  {
   "cell_type": "code",
   "execution_count": 6,
   "id": "c30f5b66",
   "metadata": {},
   "outputs": [],
   "source": [
    "class PessoaFisica(Cliente):\n",
    "    def __init__(self, nome, cpf, data_nascimento, endereco):\n",
    "        super().__init__(endereco)\n",
    "        self.nome = nome\n",
    "        self.cpf = cpf\n",
    "        self.data_nascimento = data_nascimento"
   ]
  },
  {
   "cell_type": "markdown",
   "id": "88d907dc",
   "metadata": {},
   "source": [
    " 2 - A classe <mark>Conta</mark> recebe os atributos <i>Cliente, Agência, Número, Saldo e Histórico.</i>"
   ]
  },
  {
   "cell_type": "code",
   "execution_count": 7,
   "id": "61c30d81",
   "metadata": {},
   "outputs": [],
   "source": [
    "class Conta:\n",
    "    def __init__(self, numero, cliente):\n",
    "        self._cliente = cliente\n",
    "        self._agencia = \"0001\"\n",
    "        self._numero = numero\n",
    "        self._saldo = 0\n",
    "        self._historico = Historico()\n",
    "        \n",
    "        # Mapeando ClassMethod de nova conta e as propriedades dos atributos privados\n",
    "        @classmethod\n",
    "        def nova_conta(cls, cliente, numero):\n",
    "            return cls(numero, cliente)\n",
    "\n",
    "        @property\n",
    "        def saldo(self):\n",
    "            return self._saldo\n",
    "\n",
    "        @property\n",
    "        def numero(self):\n",
    "            return self._numero\n",
    "\n",
    "        @property\n",
    "        def agencia(self):\n",
    "            return self._agencia\n",
    "\n",
    "        @property\n",
    "        def cliente(self):\n",
    "            return self._cliente\n",
    "\n",
    "        @property\n",
    "        def historico(self):\n",
    "            return self._historico\n",
    "        \n",
    "        \n",
    "        # Definindo as operações Saque e Depósito\n",
    "        def sacar(self, valor):\n",
    "            saldo = self.saldo\n",
    "            excedeu_saldo = valor > saldo # verifica valor é maior que saldo disponível\n",
    "\n",
    "            if excedeu_saldo:\n",
    "                print(\"\\n Operação não concluida. Saldo insuficiente.\")\n",
    "\n",
    "            elif valor > 0: # se o valor não for maior que saldo e for válido: debíta valor de saldo\n",
    "                self._saldo -= valor \n",
    "                print(\"\\n Saque realizado com sucesso!\")\n",
    "                return True\n",
    "\n",
    "            else: # se for valor inválido (valor negativo)\n",
    "                print(\"\\n Operação não concluida. Valor inválido.\")\n",
    "\n",
    "            return False\n",
    "\n",
    "        def depositar(self, valor):\n",
    "            if valor > 0: \n",
    "                self._saldo += valor # se valor for maior que zero: credíta valor em saldo\n",
    "                print(\"\\n Depósito realizado com sucesso!\")\n",
    "            else:\n",
    "                print(\"\\n Operação não concluida. Valor inválido.\")\n",
    "                return False\n",
    "\n",
    "            return True"
   ]
  },
  {
   "cell_type": "markdown",
   "id": "2a74ae51",
   "metadata": {},
   "source": [
    " - A classe <mark>Conta Corrente</mark> herda de <mark>Conta</mark> mais os atributos <i>Limite e Limite de Saques.</i>"
   ]
  },
  {
   "cell_type": "code",
   "execution_count": 10,
   "id": "e9378e24",
   "metadata": {},
   "outputs": [],
   "source": [
    "class ContaCorrente(Conta):\n",
    "    def __init__(self, numero, cliente, limite=500, limite_saques=3):\n",
    "        super().__init__(numero, cliente)\n",
    "        self.limite = limite\n",
    "        self.limite_saques = limite_saques\n",
    "\n",
    "    def sacar(self, valor):\n",
    "        # List Comprehension: Um \"For loop\" que percorre histórico de transações, verifica se o tipo é = a Saque e conta o número de transações através do tamanho da lista (len).\n",
    "        numero_saques = len([transacao for transacao in self.historico.transacoes if transacao[\"tipo\"] == \"Saque\"])\n",
    "\n",
    "        # Verifica número de saques e limite de valor para saques.\n",
    "        excedeu_limite = valor > self.limite\n",
    "        excedeu_saques = numero_saques >= self.limite_saques\n",
    "\n",
    "        if excedeu_limite:\n",
    "            print(\"\\n Operação não concluida. Valor excede o limite disponível.\")\n",
    "\n",
    "        elif excedeu_saques:\n",
    "            print(\"\\n Operação não concluida. Número máximo de saques excedido.\")\n",
    "\n",
    "        else:\n",
    "            # Após a confirmação dos requisitos, para realizar a operação de saque chama a função sacar da classe pai \"Conta\".\n",
    "            return super().sacar(valor)\n",
    "\n",
    "        return False\n",
    "\n",
    "    # Método \"str\" é a representação da classe Conta que vai apresentar os dados no extrato\n",
    "    def __str__(self):\n",
    "        return f\"\"\"\\\n",
    "            Agência:\\t{self.agencia}\n",
    "            C/C:\\t\\t{self.numero}\n",
    "            Titular:\\t{self.cliente.nome}\n",
    "        \"\"\""
   ]
  },
  {
   "cell_type": "markdown",
   "id": "29f93533",
   "metadata": {},
   "source": [
    "3 - A Classe <mark>Histórico</mark> recebe cada transação realizada (saque ou depósito) em uma lista."
   ]
  },
  {
   "cell_type": "code",
   "execution_count": 12,
   "id": "e7035ef0",
   "metadata": {},
   "outputs": [],
   "source": [
    "class Historico:\n",
    "    def __init__(self):\n",
    "        self._transacoes = []\n",
    "\n",
    "    @property\n",
    "    def transacoes(self):\n",
    "        return self._transacoes\n",
    "\n",
    "    # adiciona cada transação - em forma de dicionário - na lista de transações.\n",
    "    def adicionar_transacao(self, transacao):\n",
    "        self._transacoes.append(\n",
    "            {\n",
    "                \"tipo\": transacao.__class__.__name__,\n",
    "                \"valor\": transacao.valor,\n",
    "                \"data\": datetime.now().strftime(\"%d-%m-%Y %H:%M:%s\"), # para obter a data atual do sistema formatada\n",
    "            }\n",
    "        )"
   ]
  },
  {
   "cell_type": "markdown",
   "id": "f364567a",
   "metadata": {},
   "source": [
    "4 - Classe abstrata <mark>Transação</mark> extende da classe utilitária <mark>ABC</mark>."
   ]
  },
  {
   "cell_type": "code",
   "execution_count": 13,
   "id": "04e64bcc",
   "metadata": {},
   "outputs": [],
   "source": [
    "class Transacao(ABC):\n",
    "    @property\n",
    "    @abstractproperty\n",
    "    def valor(self):\n",
    "        pass\n",
    "\n",
    "    @abstractclassmethod\n",
    "    def registrar(self, conta):\n",
    "        pass"
   ]
  },
  {
   "cell_type": "markdown",
   "id": "d388cb44",
   "metadata": {},
   "source": [
    "5 - A Classe <mark>Saque</mark> extende da classe <mark>Transação</mark> mais o atributo <i>valor</i>."
   ]
  },
  {
   "cell_type": "code",
   "execution_count": 14,
   "id": "e26b17fc",
   "metadata": {},
   "outputs": [],
   "source": [
    "class Saque(Transacao):\n",
    "    def __init__(self, valor):\n",
    "        self._valor = valor # armazena o valor do saque no atributo valor\n",
    "\n",
    "    @property\n",
    "    def valor(self):\n",
    "        return self._valor\n",
    "\n",
    "    def registrar(self, conta):\n",
    "        sucesso_transacao = conta.sacar(self.valor)\n",
    "\n",
    "        if sucesso_transacao:\n",
    "            # se a transação for realizada, adiciona a tranzação no histórico\n",
    "            conta.historico.adicionar_transacao(self)"
   ]
  },
  {
   "cell_type": "markdown",
   "id": "a33e02b4",
   "metadata": {},
   "source": [
    "6 - A Classe <mark>Depósito</mark> extende da classe <mark>Transação</mark> mais o atributo <i>valor</i>."
   ]
  },
  {
   "cell_type": "code",
   "execution_count": 16,
   "id": "c2099dac",
   "metadata": {},
   "outputs": [],
   "source": [
    "class Deposito(Transacao):\n",
    "    def __init__(self, valor):\n",
    "        self._valor = valor\n",
    "\n",
    "    @property\n",
    "    def valor(self):\n",
    "        return self._valor\n",
    "\n",
    "    def registrar(self, conta):\n",
    "        sucesso_transacao = conta.depositar(self.valor)\n",
    "\n",
    "        if sucesso_transacao:\n",
    "            # se a transação for realizada, adiciona a tranzação no histórico\n",
    "            conta.historico.adicionar_transacao(self)"
   ]
  }
 ],
 "metadata": {
  "kernelspec": {
   "display_name": "Python 3 (ipykernel)",
   "language": "python",
   "name": "python3"
  },
  "language_info": {
   "codemirror_mode": {
    "name": "ipython",
    "version": 3
   },
   "file_extension": ".py",
   "mimetype": "text/x-python",
   "name": "python",
   "nbconvert_exporter": "python",
   "pygments_lexer": "ipython3",
   "version": "3.9.7"
  }
 },
 "nbformat": 4,
 "nbformat_minor": 5
}
